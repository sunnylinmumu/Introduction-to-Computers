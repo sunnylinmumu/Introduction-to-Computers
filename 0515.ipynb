{
  "nbformat": 4,
  "nbformat_minor": 0,
  "metadata": {
    "colab": {
      "provenance": [],
      "authorship_tag": "ABX9TyPxdsWofL6tNrn6965ZH1lO",
      "include_colab_link": true
    },
    "kernelspec": {
      "name": "python3",
      "display_name": "Python 3"
    },
    "language_info": {
      "name": "python"
    }
  },
  "cells": [
    {
      "cell_type": "markdown",
      "metadata": {
        "id": "view-in-github",
        "colab_type": "text"
      },
      "source": [
        "<a href=\"https://colab.research.google.com/github/sunnylinmumu/Introduction-to-Computers/blob/main/0515.ipynb\" target=\"_parent\"><img src=\"https://colab.research.google.com/assets/colab-badge.svg\" alt=\"Open In Colab\"/></a>"
      ]
    },
    {
      "cell_type": "code",
      "source": [
        "rain = input(\"今天會下雨嗎？\")\n",
        "if (rain == \"Y\" or rain == \"y\"):\n",
        "  print(\"出門記得帶傘！\")\n",
        "elif (rain == \"N\" or rain == \"n\"):\n",
        "  print(\"出門記得帶傘！\")\n",
        "else:\n",
        "  print(\"請重新輸入\")"
      ],
      "metadata": {
        "colab": {
          "base_uri": "https://localhost:8080/"
        },
        "id": "diZadM_6T2gv",
        "outputId": "271ab74c-1b69-4fb5-a116-1d8ce1176453"
      },
      "execution_count": 6,
      "outputs": [
        {
          "output_type": "stream",
          "name": "stdout",
          "text": [
            "今天會下雨嗎？Y\n",
            "出門記得帶傘！\n"
          ]
        }
      ]
    },
    {
      "cell_type": "code",
      "source": [
        "T = float(input(\"請輸入體溫：\"))\n",
        "if T >= 37.5:\n",
        "  print(\"體溫過高！\")\n",
        "elif T >= 37:\n",
        "  print(\"體溫略高！\")\n",
        "elif T >= 34:\n",
        "  print(\"體溫正常！\")\n",
        "elif T < 34:\n",
        "  print(\"體溫異常，請重新測量！\")"
      ],
      "metadata": {
        "colab": {
          "base_uri": "https://localhost:8080/"
        },
        "id": "exGErZybVTvO",
        "outputId": "cc8e5352-9408-4b40-ed0e-b7420c80fd30"
      },
      "execution_count": null,
      "outputs": [
        {
          "output_type": "stream",
          "name": "stdout",
          "text": [
            "請輸入體溫：36.9\n",
            "體溫正常！\n"
          ]
        }
      ]
    },
    {
      "cell_type": "code",
      "source": [
        "score = int(input(\"請輸入成績\"))\n",
        "if score >= 90:\n",
        "  print(\"A\")\n",
        "elif score >= 80:\n",
        "  print(\"B\")\n",
        "elif score >= 70:\n",
        "  print(\"C\")\n",
        "elif score >= 60:\n",
        "  print(\"D\")\n",
        "else:\n",
        "  print(\"E\")"
      ],
      "metadata": {
        "id": "cOkzTaqFXD2T",
        "colab": {
          "base_uri": "https://localhost:8080/"
        },
        "outputId": "93a5ba3a-39a1-479b-8e76-e640bc2b64c5"
      },
      "execution_count": 5,
      "outputs": [
        {
          "output_type": "stream",
          "name": "stdout",
          "text": [
            "請輸入成績90\n",
            "A\n"
          ]
        }
      ]
    },
    {
      "cell_type": "code",
      "source": [
        "month = int(input(\"請輸入月份:\"))\n",
        "if month >= 3 and month <= 5: \n",
        "  print(month, \"月是春天!\")\n",
        "elif month >= 6 and month <= 8:\n",
        "  print(month, \"月是夏天!\")\n",
        "elif month >= 9 and month <= 11:\n",
        "  print(month, \"月是秋天!\")\n",
        "elif month == 12 or month == 1 or month == 2:\n",
        "  print(month, \"月是冬天!\")\n",
        "else:\n",
        "  print(\"月份不在範圍內!\")"
      ],
      "metadata": {
        "colab": {
          "base_uri": "https://localhost:8080/"
        },
        "id": "TeH-kX6v9TCA",
        "outputId": "75511727-b62a-46a4-f0b6-a04da6f993da"
      },
      "execution_count": 16,
      "outputs": [
        {
          "output_type": "stream",
          "name": "stdout",
          "text": [
            "請輸入月份:5\n",
            "5 月是春天!\n"
          ]
        }
      ]
    },
    {
      "cell_type": "code",
      "source": [
        "R = int(input(\"請輸入今年收入淨額:\"))\n",
        "if R >= 2000000:\n",
        "  print(\"付稅金額:\", R * 0.3)\n",
        "elif R >= 1000000:\n",
        "  print(\"付稅金額:\", R * 0.21)\n",
        "elif R >= 600000:\n",
        "  print(\"付稅金額:\", R * 0.13)\n",
        "elif R >= 300000:\n",
        "  print(\"付稅金額:\", R * 0.06)\n",
        "else:\n",
        "  print(\"付稅金額:\", R * 0)"
      ],
      "metadata": {
        "colab": {
          "base_uri": "https://localhost:8080/"
        },
        "id": "aI84EDAM_9VY",
        "outputId": "0d92019e-9cc0-40b0-d818-38f2cada3769"
      },
      "execution_count": 18,
      "outputs": [
        {
          "output_type": "stream",
          "name": "stdout",
          "text": [
            "請輸入今年收入淨額:2000000\n",
            "付稅金額: 600000.0\n"
          ]
        }
      ]
    }
  ]
}